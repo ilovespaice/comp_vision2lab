{
 "cells": [
  {
   "cell_type": "code",
   "execution_count": 1,
   "id": "ba4485a2-9daf-42d0-9e45-1f0cdc24a5a6",
   "metadata": {},
   "outputs": [
    {
     "name": "stdin",
     "output_type": "stream",
     "text": [
      "Введите размер батча (от 30 до 80 пикселей):  64\n"
     ]
    },
    {
     "name": "stdout",
     "output_type": "stream",
     "text": [
      "Координаты точки: x=680, y=402\n",
      "Средняя интенсивность батча: B=158.861328125, G=126.6376953125, R=125.38232421875\n"
     ]
    }
   ],
   "source": [
    "import cv2\n",
    "import numpy as np\n",
    "\n",
    "# Запрос размера батча у пользователя\n",
    "batch_size = int(input(\"Введите размер батча (от 30 до 80 пикселей): \"))\n",
    "if batch_size < 30 or batch_size > 80:\n",
    "    print(\"Недопустимый размер батча. Пожалуйста, введите значение от 30 до 80.\")\n",
    "    exit()\n",
    "\n",
    "# Загрузка изображения\n",
    "image = cv2.imread('tiger.jpg')\n",
    "\n",
    "# Проверка, было ли изображение загружено\n",
    "if image is None:\n",
    "    print(\"Ошибка: изображение не найдено. Проверьте путь к файлу.\")\n",
    "    exit()\n",
    "\n",
    "# Создание окна для отображения изображения\n",
    "cv2.namedWindow('Image')\n",
    "\n",
    "# Функция обработки событий мыши\n",
    "def mouse_callback(event, x, y, flags, param):\n",
    "    if event == cv2.EVENT_LBUTTONDOWN:\n",
    "        # Вывод координат в консоль\n",
    "        print(f\"Координаты точки: x={x}, y={y}\")\n",
    "        \n",
    "        # Определение границ батча\n",
    "        half_size = batch_size // 2\n",
    "        x_start = max(x - half_size, 0)\n",
    "        x_end = min(x + half_size, image.shape[1])\n",
    "        y_start = max(y - half_size, 0)\n",
    "        y_end = min(y + half_size, image.shape[0])\n",
    "        \n",
    "        # Извлечение батча\n",
    "        batch = image[y_start:y_end, x_start:x_end]\n",
    "        \n",
    "        # Вычисление средней интенсивности по каналам\n",
    "        mean_intensity = cv2.mean(batch)  # Возвращает средние значения по каналам\n",
    "        print(f\"Средняя интенсивность батча: B={mean_intensity[0]}, G={mean_intensity[1]}, R={mean_intensity[2]}\")\n",
    "        \n",
    "        # Отображение батча на изображении\n",
    "        cv2.rectangle(image, (x_start, y_start), (x_end, y_end), (0, 255, 0), 2)  # Рисуем прямоугольник\n",
    "        cv2.imshow('Image', image)\n",
    "\n",
    "# Привязка функции обработки событий мыши к окну\n",
    "cv2.setMouseCallback('Image', mouse_callback)\n",
    "\n",
    "# Отображение изображения\n",
    "cv2.imshow('Image', image)\n",
    "cv2.waitKey(0)\n",
    "cv2.destroyAllWindows()"
   ]
  },
  {
   "cell_type": "code",
   "execution_count": null,
   "id": "20a4591d-14bb-4f47-95ce-635ce9ab7547",
   "metadata": {},
   "outputs": [],
   "source": []
  }
 ],
 "metadata": {
  "kernelspec": {
   "display_name": "Python 3 (ipykernel)",
   "language": "python",
   "name": "python3"
  },
  "language_info": {
   "codemirror_mode": {
    "name": "ipython",
    "version": 3
   },
   "file_extension": ".py",
   "mimetype": "text/x-python",
   "name": "python",
   "nbconvert_exporter": "python",
   "pygments_lexer": "ipython3",
   "version": "3.12.4"
  }
 },
 "nbformat": 4,
 "nbformat_minor": 5
}
